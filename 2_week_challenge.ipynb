{
  "nbformat": 4,
  "nbformat_minor": 0,
  "metadata": {
    "colab": {
      "provenance": [],
      "toc_visible": true,
      "authorship_tag": "ABX9TyNF9LbuqKd5Rkimk9v5q92t",
      "include_colab_link": true
    },
    "kernelspec": {
      "name": "python3",
      "display_name": "Python 3"
    },
    "language_info": {
      "name": "python"
    }
  },
  "cells": [
    {
      "cell_type": "markdown",
      "metadata": {
        "id": "view-in-github",
        "colab_type": "text"
      },
      "source": [
        "<a href=\"https://colab.research.google.com/github/SoftShun/Python-practice/blob/main/2_week_challenge.ipynb\" target=\"_parent\"><img src=\"https://colab.research.google.com/assets/colab-badge.svg\" alt=\"Open In Colab\"/></a>"
      ]
    },
    {
      "cell_type": "code",
      "execution_count": null,
      "metadata": {
        "id": "srMQ36x7H7YE",
        "colab": {
          "base_uri": "https://localhost:8080/"
        },
        "outputId": "b8ed90b8-cd3a-4d72-c9b7-6e199d1a57d7"
      },
      "outputs": [
        {
          "output_type": "stream",
          "name": "stdout",
          "text": [
            "hello shun\n",
            "hello 오류\n"
          ]
        }
      ],
      "source": [
        "def say_hello(user_name = '오류') :\n",
        "  print('hello', user_name)\n",
        "\n",
        "say_hello('shun')\n",
        "say_hello()"
      ]
    },
    {
      "cell_type": "code",
      "source": [
        "def plus(a, b) :\n",
        "  print(a + b)\n",
        "for p in range(1,10) :\n",
        "  plus(p, p)"
      ],
      "metadata": {
        "colab": {
          "base_uri": "https://localhost:8080/"
        },
        "id": "gDzYOWkiI2mD",
        "outputId": "2c414b15-fad2-42e2-9cd0-24ef7131cde6"
      },
      "execution_count": null,
      "outputs": [
        {
          "output_type": "stream",
          "name": "stdout",
          "text": [
            "2\n",
            "4\n",
            "6\n",
            "8\n",
            "10\n",
            "12\n",
            "14\n",
            "16\n",
            "18\n"
          ]
        }
      ]
    },
    {
      "cell_type": "code",
      "source": [
        "def tax_calc(money) :\n",
        "  return money * 0.35\n",
        "\n",
        "def pay_tax(tax) :\n",
        "  print('thank you for paying', tax)\n",
        "\n",
        "to_pay = tax_calc(150000)\n",
        "pay_tax(to_pay)"
      ],
      "metadata": {
        "colab": {
          "base_uri": "https://localhost:8080/"
        },
        "id": "vuXaXa3RLJww",
        "outputId": "9eb65e3b-158f-4f63-b3d0-d546d94716cc"
      },
      "execution_count": null,
      "outputs": [
        {
          "output_type": "stream",
          "name": "stdout",
          "text": [
            "thank you for paying 52500.0\n"
          ]
        }
      ]
    },
    {
      "cell_type": "code",
      "source": [
        "def make_juice(fruit) :\n",
        "  return f'{fruit}+;🥤'\n",
        "\n",
        "def add_ice(juice) :\n",
        "  return f'{juice}+🧊'\n",
        "\n",
        "def add_sugar(iced_juice) :\n",
        "  return f'{iced_juice}+🍬'\n",
        "\n",
        "juice = make_juice('🍎')\n",
        "cold_juice = add_ice(juice)\n",
        "perfect_juice = add_sugar(cold_juice)\n",
        "\n",
        "print(perfect_juice)"
      ],
      "metadata": {
        "colab": {
          "base_uri": "https://localhost:8080/"
        },
        "id": "5gHiugRsMvGN",
        "outputId": "607f6285-a7e1-4b7e-9825-aafb57e257e6"
      },
      "execution_count": null,
      "outputs": [
        {
          "output_type": "stream",
          "name": "stdout",
          "text": [
            "🍎+;🥤+🧊+🍬\n"
          ]
        }
      ]
    },
    {
      "cell_type": "code",
      "source": [
        "# 👇🏻 Write your code here 👇🏻:\n",
        "def get_yearly_revenue(monthly_revenue) :\n",
        "    return monthly_revenue * 12\n",
        "\n",
        "def get_yearly_expenses(monthly_expenses) :\n",
        "    return monthly_expenses * 12\n",
        "\n",
        "def get_tax_amount(profit) :\n",
        "    if profit > 100000 :\n",
        "        return profit * 0.25\n",
        "    else :\n",
        "        return profit * 0.15\n",
        "\n",
        "def apply_tax_credits(tax_amount, tax_credits) :\n",
        "    return tax_amount * tax_credits\n",
        "\n",
        "# ❌ Don't touch anthing below this line ❌\n",
        "\n",
        "monthly_revenue = 5500000\n",
        "monthly_expenses = 2700000\n",
        "tax_credits = 0.01\n",
        "\n",
        "yearly_revenue = get_yearly_revenue(monthly_revenue)\n",
        "yearly_expenses = get_yearly_expenses(monthly_expenses)\n",
        "\n",
        "profit = yearly_revenue - yearly_expenses\n",
        "\n",
        "tax_amount = get_tax_amount(profit)\n",
        "\n",
        "final_tax_amount = tax_amount - apply_tax_credits(tax_amount, tax_credits)\n",
        "\n",
        "print(f\"Your tax bill is: ${final_tax_amount}\")\n"
      ],
      "metadata": {
        "colab": {
          "base_uri": "https://localhost:8080/"
        },
        "id": "5DW230UPVgX1",
        "outputId": "afe7ee28-c873-4f53-eff0-b4df6a16ae90"
      },
      "execution_count": null,
      "outputs": [
        {
          "output_type": "stream",
          "name": "stdout",
          "text": [
            "Your tax bill is: $8316000.0\n"
          ]
        }
      ]
    },
    {
      "cell_type": "code",
      "source": [
        "age = int(input('how old are you?'))"
      ],
      "metadata": {
        "id": "6FRRBQnkh23J",
        "colab": {
          "base_uri": "https://localhost:8080/"
        },
        "outputId": "89d34497-f88f-4cb3-d063-a79ce645a9ff"
      },
      "execution_count": null,
      "outputs": [
        {
          "name": "stdout",
          "output_type": "stream",
          "text": [
            "how old are you?25\n"
          ]
        }
      ]
    },
    {
      "cell_type": "code",
      "source": [
        "age"
      ],
      "metadata": {
        "id": "oXHGehHYh6n3",
        "colab": {
          "base_uri": "https://localhost:8080/"
        },
        "outputId": "b6b104cc-09e5-422c-ce56-5b8e250df57b"
      },
      "execution_count": null,
      "outputs": [
        {
          "output_type": "execute_result",
          "data": {
            "text/plain": [
              "25"
            ]
          },
          "metadata": {},
          "execution_count": 4
        }
      ]
    },
    {
      "cell_type": "code",
      "source": [
        "type(age)"
      ],
      "metadata": {
        "colab": {
          "base_uri": "https://localhost:8080/"
        },
        "id": "UXcsidb8ipCz",
        "outputId": "970eeedd-2f46-4445-f3e2-2b36ad4fd8bc"
      },
      "execution_count": null,
      "outputs": [
        {
          "output_type": "execute_result",
          "data": {
            "text/plain": [
              "int"
            ]
          },
          "metadata": {},
          "execution_count": 5
        }
      ]
    },
    {
      "cell_type": "code",
      "source": [
        "if age < 18 :\n",
        "  print(\"You can't drink\")\n",
        "elif age > 18 and age < 35 :\n",
        "  print('You drink beer')\n",
        "else :\n",
        "  print('Go ahead!')"
      ],
      "metadata": {
        "colab": {
          "base_uri": "https://localhost:8080/"
        },
        "id": "DgH0GcKEiqVa",
        "outputId": "e4e6f9fe-2ce4-4db9-8e9d-a9d731762567"
      },
      "execution_count": null,
      "outputs": [
        {
          "output_type": "stream",
          "name": "stdout",
          "text": [
            "You drink beer\n"
          ]
        }
      ]
    },
    {
      "cell_type": "code",
      "source": [
        "user_choice = int(input('Choose number : '))\n",
        "pc_choice = 50\n",
        "\n",
        "if user_choice == pc_choice :\n",
        "  print('You won')\n",
        "elif user_choice > pc_choice :\n",
        "  print('Lower!')\n",
        "elif user_choice < pc_choice :\n",
        "  print('higher')"
      ],
      "metadata": {
        "colab": {
          "base_uri": "https://localhost:8080/"
        },
        "id": "ZmhOyvv5jcMk",
        "outputId": "f24e2088-f06f-4375-94e8-6645c10125ff"
      },
      "execution_count": null,
      "outputs": [
        {
          "output_type": "stream",
          "name": "stdout",
          "text": [
            "Choose number : 50\n",
            "You won\n"
          ]
        }
      ]
    },
    {
      "cell_type": "code",
      "source": [
        "from random import randint\n",
        "\n",
        "user_choice = int(input('Choose number : '))\n",
        "\n",
        "pc_choice = randint(1, 50)\n",
        "\n",
        "if user_choice == pc_choice :\n",
        "  print('You won')\n",
        "elif user_choice > pc_choice :\n",
        "  print('Lower!', pc_choice)\n",
        "elif user_choice < pc_choice :\n",
        "  print('higher', pc_choice)"
      ],
      "metadata": {
        "colab": {
          "base_uri": "https://localhost:8080/"
        },
        "id": "hbhhj7_Qj1xE",
        "outputId": "41bb86c8-bb17-4c01-e836-6eab97206c23"
      },
      "execution_count": null,
      "outputs": [
        {
          "output_type": "stream",
          "name": "stdout",
          "text": [
            "Choose number : 33\n",
            "Lower! 10\n"
          ]
        }
      ]
    },
    {
      "cell_type": "code",
      "source": [
        "day_week = ['mon', 'tue', 'wed', 'thur', 'fri']\n",
        "day_week"
      ],
      "metadata": {
        "id": "qUc1ygz-lnaW",
        "colab": {
          "base_uri": "https://localhost:8080/"
        },
        "outputId": "3c6fb622-cba2-4f24-fb80-17bf6875ff2c"
      },
      "execution_count": null,
      "outputs": [
        {
          "output_type": "execute_result",
          "data": {
            "text/plain": [
              "['mon', 'tue', 'wed', 'thur', 'fri']"
            ]
          },
          "metadata": {},
          "execution_count": 18
        }
      ]
    },
    {
      "cell_type": "code",
      "source": [
        "name = \"nico\"\n",
        "name[1]"
      ],
      "metadata": {
        "colab": {
          "base_uri": "https://localhost:8080/",
          "height": 35
        },
        "id": "hal-FnLRnHmR",
        "outputId": "f0a00c8b-64fe-460b-ab65-a251a59dce6d"
      },
      "execution_count": null,
      "outputs": [
        {
          "output_type": "execute_result",
          "data": {
            "text/plain": [
              "'i'"
            ],
            "application/vnd.google.colaboratory.intrinsic+json": {
              "type": "string"
            }
          },
          "metadata": {},
          "execution_count": 3
        }
      ]
    },
    {
      "cell_type": "code",
      "source": [
        "print(name.upper())"
      ],
      "metadata": {
        "colab": {
          "base_uri": "https://localhost:8080/"
        },
        "id": "q4d7ku2XnZMk",
        "outputId": "1c015dd7-e6b6-4981-fcb5-a7e56c1ea84e"
      },
      "execution_count": null,
      "outputs": [
        {
          "output_type": "stream",
          "name": "stdout",
          "text": [
            "NICO\n"
          ]
        }
      ]
    },
    {
      "cell_type": "code",
      "source": [
        "print(name.startswith('n'))"
      ],
      "metadata": {
        "colab": {
          "base_uri": "https://localhost:8080/"
        },
        "id": "NFbwCbFOniwd",
        "outputId": "4f68be07-95ba-4076-f546-d65a9068f00c"
      },
      "execution_count": null,
      "outputs": [
        {
          "output_type": "stream",
          "name": "stdout",
          "text": [
            "True\n"
          ]
        }
      ]
    },
    {
      "cell_type": "code",
      "source": [
        "print(name.replace('o', '📖'))"
      ],
      "metadata": {
        "colab": {
          "base_uri": "https://localhost:8080/"
        },
        "id": "UHY-qQdqoDDs",
        "outputId": "8959d235-a3a6-4634-ff8d-950dae91ae50"
      },
      "execution_count": null,
      "outputs": [
        {
          "output_type": "stream",
          "name": "stdout",
          "text": [
            "nic📖\n"
          ]
        }
      ]
    },
    {
      "cell_type": "code",
      "source": [
        "print(name.endswith('o'))"
      ],
      "metadata": {
        "colab": {
          "base_uri": "https://localhost:8080/"
        },
        "id": "0qTr8b9voi2P",
        "outputId": "c6b9ca56-bbb6-4b28-a22a-c4cd6af3f7eb"
      },
      "execution_count": null,
      "outputs": [
        {
          "output_type": "stream",
          "name": "stdout",
          "text": [
            "True\n"
          ]
        }
      ]
    },
    {
      "cell_type": "code",
      "source": [
        "print(day_week.clear())"
      ],
      "metadata": {
        "colab": {
          "base_uri": "https://localhost:8080/"
        },
        "id": "2lbxUkBtozPc",
        "outputId": "9c3df30d-730c-4995-8411-685a3bc9da65"
      },
      "execution_count": null,
      "outputs": [
        {
          "output_type": "stream",
          "name": "stdout",
          "text": [
            "None\n"
          ]
        }
      ]
    },
    {
      "cell_type": "code",
      "source": [
        "day_week = ['mon', 'tue', 'wed', 'thur', 'fri']\n",
        "print(day_week.reverse())"
      ],
      "metadata": {
        "colab": {
          "base_uri": "https://localhost:8080/"
        },
        "id": "sS85yWHypv58",
        "outputId": "28eef6af-cd3f-4a72-b471-99e4d5145bcc"
      },
      "execution_count": null,
      "outputs": [
        {
          "output_type": "stream",
          "name": "stdout",
          "text": [
            "None\n"
          ]
        }
      ]
    },
    {
      "cell_type": "code",
      "source": [
        "print(day_week)"
      ],
      "metadata": {
        "colab": {
          "base_uri": "https://localhost:8080/"
        },
        "id": "0lFsWKyKp-fb",
        "outputId": "99c715bd-9398-49e4-d0d6-b92345e94421"
      },
      "execution_count": null,
      "outputs": [
        {
          "output_type": "stream",
          "name": "stdout",
          "text": [
            "[]\n"
          ]
        }
      ]
    },
    {
      "cell_type": "code",
      "source": [
        "days_week = ['mon', 'tue', 'wed', 'thur', 'fri']"
      ],
      "metadata": {
        "id": "0MRkRi4iqDcj"
      },
      "execution_count": null,
      "outputs": []
    },
    {
      "cell_type": "code",
      "source": [
        "days_week.reverse()"
      ],
      "metadata": {
        "id": "HbMtwuYuqhyR"
      },
      "execution_count": null,
      "outputs": []
    },
    {
      "cell_type": "code",
      "source": [
        "days_week"
      ],
      "metadata": {
        "colab": {
          "base_uri": "https://localhost:8080/"
        },
        "id": "xNjcbWhQqkzS",
        "outputId": "956df7a2-3fd2-4ff4-daab-389fe1305253"
      },
      "execution_count": null,
      "outputs": [
        {
          "output_type": "execute_result",
          "data": {
            "text/plain": [
              "['sat', 'mon', 'tue', 'wed', 'thur', 'fri']"
            ]
          },
          "metadata": {},
          "execution_count": 33
        }
      ]
    },
    {
      "cell_type": "code",
      "source": [
        "days_week.append('sat')"
      ],
      "metadata": {
        "id": "b7WjD-mNqqi9"
      },
      "execution_count": null,
      "outputs": []
    },
    {
      "cell_type": "code",
      "source": [
        "days_week"
      ],
      "metadata": {
        "colab": {
          "base_uri": "https://localhost:8080/"
        },
        "id": "Gc4LTKhmqwnw",
        "outputId": "40ebc38f-53ee-4e37-ad16-ad68065912ca"
      },
      "execution_count": null,
      "outputs": [
        {
          "output_type": "execute_result",
          "data": {
            "text/plain": [
              "['fri', 'thur', 'wed', 'tue', 'mon', 'sat']"
            ]
          },
          "metadata": {},
          "execution_count": 31
        }
      ]
    },
    {
      "cell_type": "code",
      "source": [
        "days_week.remove('sat')"
      ],
      "metadata": {
        "id": "jafYw1xAqx5z"
      },
      "execution_count": null,
      "outputs": []
    },
    {
      "cell_type": "code",
      "source": [
        "days_week"
      ],
      "metadata": {
        "colab": {
          "base_uri": "https://localhost:8080/"
        },
        "id": "2fVJvgRorAEp",
        "outputId": "7ec9fbfd-4e86-4d7a-9e4d-44e90412087d"
      },
      "execution_count": null,
      "outputs": [
        {
          "output_type": "execute_result",
          "data": {
            "text/plain": [
              "['mon', 'tue', 'wed', 'thur', 'fri']"
            ]
          },
          "metadata": {},
          "execution_count": 35
        }
      ]
    },
    {
      "cell_type": "code",
      "source": [
        "print(days_week[3])"
      ],
      "metadata": {
        "colab": {
          "base_uri": "https://localhost:8080/"
        },
        "id": "tgQHzJ3xrBXF",
        "outputId": "dbb08e80-c2a6-440c-a5ff-63a1080ad401"
      },
      "execution_count": null,
      "outputs": [
        {
          "output_type": "stream",
          "name": "stdout",
          "text": [
            "thur\n"
          ]
        }
      ]
    },
    {
      "cell_type": "code",
      "source": [
        "days = ('Mon', 'Tue', 'Wed')"
      ],
      "metadata": {
        "id": "s-f0fDOOrPgK"
      },
      "execution_count": null,
      "outputs": []
    },
    {
      "cell_type": "code",
      "source": [
        "days"
      ],
      "metadata": {
        "colab": {
          "base_uri": "https://localhost:8080/"
        },
        "id": "RznzB6Ywri39",
        "outputId": "88c893b8-81ba-41b3-e451-823095a67d17"
      },
      "execution_count": null,
      "outputs": [
        {
          "output_type": "execute_result",
          "data": {
            "text/plain": [
              "('Mon', 'Tue', 'Wed')"
            ]
          },
          "metadata": {},
          "execution_count": 38
        }
      ]
    },
    {
      "cell_type": "code",
      "source": [
        "player = {\n",
        "    'name':'Shun',\n",
        "    'age':'26',\n",
        "    'fav':['피자','햄버거','치킨','국밥']\n",
        "}"
      ],
      "metadata": {
        "id": "2DluR8JFrjiL"
      },
      "execution_count": null,
      "outputs": []
    },
    {
      "cell_type": "code",
      "source": [
        "print(player.get('age'))"
      ],
      "metadata": {
        "colab": {
          "base_uri": "https://localhost:8080/"
        },
        "id": "MvP_5anjslfx",
        "outputId": "20397b62-e496-49b8-fd0a-b9f035e8ccee"
      },
      "execution_count": null,
      "outputs": [
        {
          "output_type": "stream",
          "name": "stdout",
          "text": [
            "26\n"
          ]
        }
      ]
    },
    {
      "cell_type": "code",
      "source": [
        "print(player.get('fav'))"
      ],
      "metadata": {
        "colab": {
          "base_uri": "https://localhost:8080/"
        },
        "id": "EVBOabgoso7I",
        "outputId": "56d84780-d020-4ae3-daed-65480e1dcba6"
      },
      "execution_count": null,
      "outputs": [
        {
          "output_type": "stream",
          "name": "stdout",
          "text": [
            "['피자', '햄버거', '치킨', '국밥']\n"
          ]
        }
      ]
    },
    {
      "cell_type": "code",
      "source": [
        "print(player['fav'][2])"
      ],
      "metadata": {
        "colab": {
          "base_uri": "https://localhost:8080/"
        },
        "id": "mBzG_To1tzMa",
        "outputId": "4e5b850c-9566-48c9-d1e7-20c52b519578"
      },
      "execution_count": null,
      "outputs": [
        {
          "output_type": "stream",
          "name": "stdout",
          "text": [
            "치킨\n"
          ]
        }
      ]
    },
    {
      "cell_type": "code",
      "source": [
        "print(player)\n",
        "player.pop('age')\n",
        "print(player)"
      ],
      "metadata": {
        "colab": {
          "base_uri": "https://localhost:8080/"
        },
        "id": "zjkC67y1t1bF",
        "outputId": "715f5006-29b1-40c9-d1c0-b2d69fe8cb8e"
      },
      "execution_count": null,
      "outputs": [
        {
          "output_type": "stream",
          "name": "stdout",
          "text": [
            "{'name': 'Shun', 'age': '26', 'fav': ['피자', '햄버거', '치킨', '국밥']}\n",
            "{'name': 'Shun', 'fav': ['피자', '햄버거', '치킨', '국밥']}\n"
          ]
        }
      ]
    },
    {
      "cell_type": "code",
      "source": [
        "player['xp'] = 1500"
      ],
      "metadata": {
        "id": "c9CCv1-wuPh8"
      },
      "execution_count": null,
      "outputs": []
    },
    {
      "cell_type": "code",
      "source": [
        "player"
      ],
      "metadata": {
        "colab": {
          "base_uri": "https://localhost:8080/"
        },
        "id": "gfu1tRqJujwh",
        "outputId": "7d1126dd-1489-4153-d4fa-1eeb3ddf30f6"
      },
      "execution_count": null,
      "outputs": [
        {
          "output_type": "execute_result",
          "data": {
            "text/plain": [
              "{'name': 'Shun', 'fav': ['피자', '햄버거', '치킨', '국밥'], 'xp': 1500}"
            ]
          },
          "metadata": {},
          "execution_count": 61
        }
      ]
    },
    {
      "cell_type": "code",
      "source": [
        "player['fav'].append('감자')"
      ],
      "metadata": {
        "id": "TRim72dzulHJ"
      },
      "execution_count": null,
      "outputs": []
    },
    {
      "cell_type": "code",
      "source": [
        "print(player['fav'])"
      ],
      "metadata": {
        "colab": {
          "base_uri": "https://localhost:8080/"
        },
        "id": "GGnTNPoiu51g",
        "outputId": "9a83b4b3-22d1-4093-f4ab-81dae6ae1e58"
      },
      "execution_count": null,
      "outputs": [
        {
          "output_type": "stream",
          "name": "stdout",
          "text": [
            "['피자', '햄버거', '치킨', '국밥', '감자']\n"
          ]
        }
      ]
    },
    {
      "cell_type": "code",
      "source": [
        "player['fav'].insert(0,'물')\n",
        "print(player['fav'])"
      ],
      "metadata": {
        "colab": {
          "base_uri": "https://localhost:8080/"
        },
        "id": "sA_PllHju_oO",
        "outputId": "96ed64dd-3530-4fde-a6d4-14ebfbeac3ef"
      },
      "execution_count": null,
      "outputs": [
        {
          "output_type": "stream",
          "name": "stdout",
          "text": [
            "['물', '피자', '햄버거', '치킨', '국밥', '감자']\n"
          ]
        }
      ]
    },
    {
      "cell_type": "code",
      "source": [
        "websites = (\n",
        "    'google.com',\n",
        "    'airbnb.com',\n",
        "    'twitter.com',\n",
        "    'facebook.com',\n",
        "    'tiktik.com'\n",
        ")"
      ],
      "metadata": {
        "id": "myp6riAUb69Z"
      },
      "execution_count": null,
      "outputs": []
    },
    {
      "cell_type": "code",
      "source": [
        "for i in websites :\n",
        "  print('hello')"
      ],
      "metadata": {
        "colab": {
          "base_uri": "https://localhost:8080/"
        },
        "id": "bsrSUL68c7Va",
        "outputId": "f40fd7a6-8187-47d6-a3f2-2397dce39065"
      },
      "execution_count": null,
      "outputs": [
        {
          "output_type": "stream",
          "name": "stdout",
          "text": [
            "hello\n",
            "hello\n",
            "hello\n",
            "hello\n",
            "hello\n"
          ]
        }
      ]
    },
    {
      "cell_type": "code",
      "source": [
        "for i in websites :\n",
        "  print(i)"
      ],
      "metadata": {
        "colab": {
          "base_uri": "https://localhost:8080/"
        },
        "id": "4ViYZjjndGsV",
        "outputId": "378619a0-6aad-4f2f-f710-78d5f9575193"
      },
      "execution_count": null,
      "outputs": [
        {
          "output_type": "stream",
          "name": "stdout",
          "text": [
            "google.com\n",
            "airbnb.com\n",
            "twitter.com\n",
            "facebook.com\n",
            "tiktik.com\n"
          ]
        }
      ]
    },
    {
      "cell_type": "code",
      "source": [
        "websites = (\n",
        "    'google.com',\n",
        "    'airbnb.com',\n",
        "    'https://twitter.com',\n",
        "    'facebook.com',\n",
        "    'https://tiktok.com'\n",
        ")\n",
        "\n",
        "for website in websites :\n",
        "  if website.startswith('https://') :\n",
        "    print('good')\n",
        "  else :\n",
        "    print('we have to fix it')"
      ],
      "metadata": {
        "colab": {
          "base_uri": "https://localhost:8080/"
        },
        "id": "zDxlMYEKdkfQ",
        "outputId": "a4e064b6-7cd3-4e36-b88c-f93dd248ccaa"
      },
      "execution_count": null,
      "outputs": [
        {
          "output_type": "stream",
          "name": "stdout",
          "text": [
            "we have to fix it\n",
            "we have to fix it\n",
            "good\n",
            "we have to fix it\n",
            "good\n"
          ]
        }
      ]
    },
    {
      "cell_type": "code",
      "source": [
        "for website in websites :\n",
        "  if not website.startswith('https://') :\n",
        "    print('good')\n",
        "  else :\n",
        "    print('we have to fix it')"
      ],
      "metadata": {
        "colab": {
          "base_uri": "https://localhost:8080/"
        },
        "id": "tdN2vnBreTIQ",
        "outputId": "a8083690-d56e-4e99-d8f9-3bad2f45fa2c"
      },
      "execution_count": null,
      "outputs": [
        {
          "output_type": "stream",
          "name": "stdout",
          "text": [
            "good\n",
            "good\n",
            "we have to fix it\n",
            "good\n",
            "we have to fix it\n"
          ]
        }
      ]
    },
    {
      "cell_type": "code",
      "source": [
        "for website in websites :\n",
        "  if not website.startswith('https://') :\n",
        "    website = f'https://{website}'\n",
        "  print(website)"
      ],
      "metadata": {
        "colab": {
          "base_uri": "https://localhost:8080/"
        },
        "id": "lgYKhF1njEKt",
        "outputId": "09753694-5828-4b44-d66e-870800943ab9"
      },
      "execution_count": null,
      "outputs": [
        {
          "output_type": "stream",
          "name": "stdout",
          "text": [
            "https://google.com\n",
            "https://airbnb.com\n",
            "https://twitter.com\n",
            "https://facebook.com\n",
            "https://tiktok.com\n"
          ]
        }
      ]
    },
    {
      "cell_type": "code",
      "source": [
        "from requests import get\n",
        "\n",
        "websites = ('google.com', 'airbnb.com', 'https://twitter.com', 'facebook.com',\n",
        "            'https://tiktok.com')\n",
        "results = {}\n",
        "\n",
        "for website in websites:\n",
        "  if not website.startswith(\"https://\"):\n",
        "    website = f\"https://{website}\"\n",
        "  response = get(website)\n",
        "  if response.status_code == 200:\n",
        "    results[website] = 'OK'\n",
        "  else:\n",
        "    results[website] = 'FAILED'\n",
        "print(results)"
      ],
      "metadata": {
        "colab": {
          "base_uri": "https://localhost:8080/"
        },
        "id": "6WgPb1Xcjf_0",
        "outputId": "3a91d488-3157-4206-a9a6-54ce0d80cf0a"
      },
      "execution_count": 4,
      "outputs": [
        {
          "output_type": "stream",
          "name": "stdout",
          "text": [
            "{'https://google.com': 'OK', 'https://airbnb.com': 'FAILED', 'https://twitter.com': 'FAILED', 'https://facebook.com': 'OK', 'https://tiktok.com': 'OK'}\n"
          ]
        }
      ]
    },
    {
      "cell_type": "code",
      "source": [
        "class Puppy :\n",
        "  def __init__(self) :\n",
        "    self.name = 'Ruffus'\n",
        "    self.age = 0.1\n",
        "    self.breed = 'beagle'\n",
        "\n",
        "ruffus = Puppy()\n",
        "\n",
        "print(ruffus)\n",
        "print()\n",
        "print(\n",
        "    ruffus.name,\n",
        "    ruffus.age\n",
        ")"
      ],
      "metadata": {
        "id": "zCBiokF0uxJT",
        "colab": {
          "base_uri": "https://localhost:8080/"
        },
        "outputId": "56d18e26-4d49-45a8-b893-4b8f7309cac6"
      },
      "execution_count": 5,
      "outputs": [
        {
          "output_type": "stream",
          "name": "stdout",
          "text": [
            "<__main__.Puppy object at 0x7d23b1bf0970>\n",
            "\n",
            "Ruffus 0.1\n"
          ]
        }
      ]
    },
    {
      "cell_type": "code",
      "source": [
        "class Dog :   # OOP Study\n",
        "  def __init__(self, name, breed, age) :\n",
        "    self.name = name\n",
        "    self.breed = breed\n",
        "    self.age = age\n",
        "\n",
        "  def sleep(self) :\n",
        "    print('zzzzzzzzzzzzzzz.....')\n",
        "\n",
        "class GuardDog(Dog) :\n",
        "  def __init__(self, name, breed) :\n",
        "    super().__init__(\n",
        "        name,\n",
        "        breed,\n",
        "        5,\n",
        "    )\n",
        "\n",
        "  def rrrrr(self) :\n",
        "    print('stay away!')\n",
        "\n",
        "class Puppy(Dog) :\n",
        "\n",
        "  def __init__(self, name, breed) :\n",
        "    super().__init__(\n",
        "        name,\n",
        "        breed,\n",
        "        0.1,\n",
        "    )\n",
        "\n",
        "  def woof_woof(self) :\n",
        "    print('Woof Woof!')\n",
        "\n",
        "ruffus = Puppy(\n",
        "    name = 'Ruffus',\n",
        "    breed = 'Beagle',\n",
        "    )\n",
        "Bibi = GuardDog(\n",
        "    breed = 'Dalmatian',\n",
        "    name = 'Bibi',\n",
        "    )\n",
        "\n",
        "ruffus.woof_woof()\n",
        "Bibi.rrrrr()\n",
        "Bibi.sleep()"
      ],
      "metadata": {
        "colab": {
          "base_uri": "https://localhost:8080/"
        },
        "id": "jqrXiVdM3ftx",
        "outputId": "9bb0105a-47c8-4761-c230-811d7b427f7f"
      },
      "execution_count": 45,
      "outputs": [
        {
          "output_type": "stream",
          "name": "stdout",
          "text": [
            "Woof Woof!\n",
            "stay away!\n",
            "zzzzzzzzzzzzzzz.....\n"
          ]
        }
      ]
    },
    {
      "cell_type": "code",
      "source": [
        "class Player :    # OOP\n",
        "\n",
        "  def __init__(self, name, team) :\n",
        "    self.name = name\n",
        "    self.xp = 1500\n",
        "    self.team = team\n",
        "\n",
        "  def introduce(self) :\n",
        "    print(f'Hello! I\\'m {self.name} and for {self.team}')\n",
        "\n",
        "class Team :\n",
        "\n",
        "  def __init__(self, team_name) :\n",
        "    self.name = team_name\n",
        "    self.players = []\n",
        "\n",
        "  def show_players(self) :\n",
        "    for player in self.players :\n",
        "      player.introduce()\n",
        "\n",
        "  def add_player(self, name) :\n",
        "    new_player = Player(name, self.name)\n",
        "    self.players.append(new_player)\n",
        "\n",
        "team_x = Team('Team X')\n",
        "team_x.add_player('nico')\n",
        "team_blue = Team('Team Blue')\n",
        "team_blue.add_player('Lynn')\n",
        "\n",
        "team_blue.show_players()\n",
        "team_x.show_players()"
      ],
      "metadata": {
        "colab": {
          "base_uri": "https://localhost:8080/"
        },
        "id": "bl-4R47T9Fuw",
        "outputId": "0b1fbbb2-a66f-4cd3-e59e-70ec00776fa2"
      },
      "execution_count": 53,
      "outputs": [
        {
          "output_type": "stream",
          "name": "stdout",
          "text": [
            "Hello! I'm Lynn and for Team Blue\n",
            "Hello! I'm nico and for Team X\n"
          ]
        }
      ]
    },
    {
      "cell_type": "code",
      "source": [
        "import requests\n",
        "from bs4 import BeautifulSoup\n",
        "\n",
        "url = \"https://weworkremotely.com/categories/remote-full-stack-programming-jobs\"\n",
        "\n",
        "response = requests.get(url)\n",
        "\n",
        "# print(response.content)\n",
        "\n",
        "soup = BeautifulSoup(response.content, 'html.parser')\n",
        "\n",
        "jobs = soup.find('section', class_ ='jobs').find_all('li')[1:-1]\n",
        "\n",
        "for job in jobs :\n",
        "  title = job.find('span', class_ = 'title').text\n",
        "  company, position, region = job.find_all('span', class_ = 'company')  # 여러가지를 한번에 변수 선언 가능 (단, 리스트와 변수의 개수가 같아야 함)\n",
        "  company = company.text                                                # 여러 가지 변수 선언 시에 _ 하나만 있는 것은 통상적으로 무시하는(필요없지만 개수를 맞추기 위해 선언하는) 변수라고 하기로 함\n",
        "  position = position.text\n",
        "  region = region.text\n",
        "  print(title, company, position, region, '_____\\n')"
      ],
      "metadata": {
        "colab": {
          "base_uri": "https://localhost:8080/"
        },
        "id": "86poH9bVdh4J",
        "outputId": "6a740039-3647-4ba2-82c6-51a5404076d7"
      },
      "execution_count": 71,
      "outputs": [
        {
          "output_type": "stream",
          "name": "stdout",
          "text": [
            "Technical Cofounder(s) for B2B Email Service Provider startup Stealth B2B Email Service Provider startup Full-Time Anywhere in the World _____\n",
            "\n",
            "Bio&Pathology Field Sr Fullstack Engineer Free time zone LifeAnalytics,,Co.LTD Full-Time Anywhere in the World _____\n",
            "\n",
            "Sr. Front End Engineer Aha! Full-Time North America Only _____\n",
            "\n",
            "Sr. Ruby on Rails Engineer (Notebooks) Aha! Full-Time North America Only _____\n",
            "\n",
            "Sr. Ruby on Rails Engineer (Growth) Aha! Full-Time North America Only _____\n",
            "\n",
            "Sr. Ruby on Rails Engineer (Frameworks) Aha! Full-Time North America Only _____\n",
            "\n",
            "Engineering Manager Storm Ideas Ltd Full-Time Europe Only _____\n",
            "\n",
            "React/Node Fullstack Developer CloudDevs Full-Time Latin America Only/Europe Only/EMEA Only/Asia Only _____\n",
            "\n",
            "AI (LLM) Fullstack Engineer CloudDevs Full-Time Latin America Only/Europe Only/UK Only/Canada Only/EMEA Only/Asia Only/Oceania Only _____\n",
            "\n",
            "Senior PHP Developer  OnTheGoSystems Contract Europe Only _____\n",
            "\n",
            "Senior Software Engineer (Ruby on Rails) Clerky Full-Time Anywhere in the World _____\n",
            "\n",
            "Senior Full-Stack Engineer Instinct Science Full-Time North America Only _____\n",
            "\n",
            "Full-Stack Engineer Locally Full-Time North America Only _____\n",
            "\n",
            "Senior Rails Developer - Remote G2i Inc. Contract Americas Only/Europe Only _____\n",
            "\n",
            "Senior Software Engineer Parallax Full-Time Americas Only _____\n",
            "\n",
            "Senior Full-Stack .NET developer Wordwall Full-Time Anywhere in the World _____\n",
            "\n",
            "Full Stack Engineer Heidi Full-Time Europe Only _____\n",
            "\n",
            "Talented Backend Developer (m/f/d) Vicoland Contract Anywhere in the World _____\n",
            "\n",
            "Founding CTO Marathon Data Full-Time USA Only _____\n",
            "\n",
            "Fullstack Developer Golang with TypeScript Netguru S.A. Contract Anywhere in the World _____\n",
            "\n",
            "Founding Software Engineering Lead withyou Full-Time Europe Only _____\n",
            "\n",
            "Senior Full Stack Engineer Platomics Full-Time Anywhere in the World _____\n",
            "\n",
            "Experienced Full-stack Developer Sanctuary Computer Full-Time Anywhere in the World _____\n",
            "\n",
            "Full Stack Developer (React / Laravel) | AI for WordPress WPAI Full-Time Anywhere in the World _____\n",
            "\n",
            "Lead Full-Stack PHP Developer BBE Marketing Inc Contract Anywhere in the World _____\n",
            "\n",
            "Software Developer - C++ - Golang BotGuard Full-Time Anywhere in the World _____\n",
            "\n",
            "Senior Support Developer (WordPress) Gravity Wiz Full-Time Anywhere in the World _____\n",
            "\n",
            "Full stack developer 🇺🇸 PetsApp Full-Time North America Only _____\n",
            "\n",
            "Senior Ruby on Rails Engineer Event Temple Full-Time Canada Only _____\n",
            "\n",
            "PHP Developer MailerLite Full-Time Anywhere in the World _____\n",
            "\n",
            "Senior full-stack engineer (US, remote) BeamJobs Full-Time USA Only _____\n",
            "\n",
            "Senior Ruby on Rails Engineer Booster SEO Full-Time Anywhere in the World _____\n",
            "\n",
            "Full Stack Developer (Front-End Focused) Great Good Venture Studio Contract Latin America Only/Europe Only _____\n",
            "\n",
            "Senior Software Engineer (Java) Builder Prime Full-Time Latin America Only/Canada Only _____\n",
            "\n",
            "Senior Independent Software Developer ($90-$150/hr) A.Team Contract Anywhere in the World _____\n",
            "\n",
            "Golang Developer IVPN Full-Time Europe Only _____\n",
            "\n",
            "Senior Cloud Asp.NET, Kubernetes Developer DEON Full-Time Europe Only _____\n",
            "\n",
            "Senior iOS Engineer Elevate Labs Full-Time Americas Only _____\n",
            "\n",
            "Head of Engineering TimeZest Full-Time Anywhere in the World _____\n",
            "\n",
            "Senior Tech Lead Loupe Art Full-Time USA Only _____\n",
            "\n",
            "Senior Full Stack Developer (Real-Time Systems)  BaxEnergy Full-Time Anywhere in the World _____\n",
            "\n",
            "Senior Backend Engineer Checkly Full-Time USA Only/North America Only/Latin America Only/Americas Only/Europe Only/UK Only _____\n",
            "\n",
            "Android Developer – Cyprus,Greece or Remote  XM Full-Time Europe Only _____\n",
            "\n",
            "Full-Stack Wordpress Developer BBE Marketing Inc Full-Time Anywhere in the World _____\n",
            "\n",
            "Full Stack Ruby Engineer OpenPlay Full-Time USA Only _____\n",
            "\n",
            "Sr. Full Stack Engineer (Javascript/Typescript, Node/React) Grouse Software Labs Inc Full-Time Americas Only _____\n",
            "\n",
            "Senior Software Developer  DM Holdings LLC Full-Time USA Only _____\n",
            "\n",
            "PHP Developer RemoteMore Full-Time Anywhere in the World _____\n",
            "\n",
            "Senior Software Engineer II LeadSimple, Inc. Full-Time Anywhere in the World _____\n",
            "\n",
            "Senior Software Engineer I LeadSimple, Inc. Full-Time Anywhere in the World _____\n",
            "\n",
            "Software Development Team Lead RapidSeedbox Ltd Full-Time Latin America Only/Europe Only/UK Only/Asia Only _____\n",
            "\n",
            "Versatile full-stack Rust / Typescript developer  eCellula Full-Time Anywhere in the World _____\n",
            "\n"
          ]
        }
      ]
    },
    {
      "cell_type": "code",
      "source": [
        "import requests\n",
        "from bs4 import BeautifulSoup\n",
        "\n",
        "url = \"https://weworkremotely.com/categories/remote-full-stack-programming-jobs\"\n",
        "\n",
        "response = requests.get(url)\n",
        "\n",
        "soup = BeautifulSoup(response.content, 'html.parser')\n",
        "\n",
        "jobs = soup.find('section', class_ ='jobs').find_all('li')[1:-1]\n",
        "\n",
        "all_jobs = []\n",
        "for job in jobs :\n",
        "  title = job.find('span', class_ = 'title').text\n",
        "  company, position, region = job.find_all('span', class_ = 'company')\n",
        "  url = job.find('div', class_ = 'tooltip').next_sibling['href']  # tooltip 다음에 오는(next_sibling) href를 선택함\n",
        "  job_data = {\n",
        "      'title' : title,\n",
        "      'company' : company.text,\n",
        "      'position' : position.text,\n",
        "      'region' : region.text,\n",
        "      'url' : f'https://weworkremotely.com{url}'\n",
        "  }\n",
        "  all_jobs.append(job_data)\n",
        "\n",
        "print(all_jobs)"
      ],
      "metadata": {
        "colab": {
          "base_uri": "https://localhost:8080/"
        },
        "id": "FYhbsdRfufIU",
        "outputId": "321482f1-8977-490d-d0df-b8739efcfcd4"
      },
      "execution_count": 77,
      "outputs": [
        {
          "output_type": "stream",
          "name": "stdout",
          "text": [
            "[{'title': 'Technical Cofounder(s) for B2B Email Service Provider startup', 'company': 'Stealth B2B Email Service Provider startup', 'position': 'Full-Time', 'region': 'Anywhere in the World', 'url': 'https://weworkremotely.com/remote-jobs/stealth-b2b-email-service-provider-startup-technical-cofounder-s-for-b2b-email-service-provider-startup'}, {'title': 'Bio&Pathology Field Sr Fullstack Engineer Free time zone', 'company': 'LifeAnalytics,,Co.LTD', 'position': 'Full-Time', 'region': 'Anywhere in the World', 'url': 'https://weworkremotely.com/remote-jobs/lifeanalytics-co-ltd-bio-pathology-field-sr-fullstack-engineer-free-time-zone'}, {'title': 'Sr. Front End Engineer', 'company': 'Aha!', 'position': 'Full-Time', 'region': 'North America Only', 'url': 'https://weworkremotely.com/remote-jobs/aha-sr-front-end-engineer-5'}, {'title': 'Sr. Ruby on Rails Engineer (Notebooks)', 'company': 'Aha!', 'position': 'Full-Time', 'region': 'North America Only', 'url': 'https://weworkremotely.com/remote-jobs/aha-sr-ruby-on-rails-engineer-notebooks-1'}, {'title': 'Sr. Ruby on Rails Engineer (Growth)', 'company': 'Aha!', 'position': 'Full-Time', 'region': 'North America Only', 'url': 'https://weworkremotely.com/remote-jobs/aha-sr-ruby-on-rails-engineer-growth-1'}, {'title': 'Sr. Ruby on Rails Engineer (Frameworks)', 'company': 'Aha!', 'position': 'Full-Time', 'region': 'North America Only', 'url': 'https://weworkremotely.com/remote-jobs/aha-sr-ruby-on-rails-engineer-frameworks-1'}, {'title': 'Engineering Manager', 'company': 'Storm Ideas Ltd', 'position': 'Full-Time', 'region': 'Europe Only', 'url': 'https://weworkremotely.com/remote-jobs/storm-ideas-ltd-engineering-manager-1'}, {'title': 'React/Node Fullstack Developer', 'company': 'CloudDevs', 'position': 'Full-Time', 'region': 'Latin America Only/Europe Only/EMEA Only/Asia Only', 'url': 'https://weworkremotely.com/remote-jobs/clouddevs-react-node-fullstack-developer-2'}, {'title': 'AI (LLM) Fullstack Engineer', 'company': 'CloudDevs', 'position': 'Full-Time', 'region': 'Latin America Only/Europe Only/UK Only/Canada Only/EMEA Only/Asia Only/Oceania Only', 'url': 'https://weworkremotely.com/remote-jobs/clouddevs-ai-llm-fullstack-engineer-1'}, {'title': 'Senior PHP Developer ', 'company': 'OnTheGoSystems', 'position': 'Contract', 'region': 'Europe Only', 'url': 'https://weworkremotely.com/remote-jobs/onthegosystems-senior-php-developer-1'}, {'title': 'Senior Software Engineer (Ruby on Rails)', 'company': 'Clerky', 'position': 'Full-Time', 'region': 'Anywhere in the World', 'url': 'https://weworkremotely.com/remote-jobs/clerky-senior-software-engineer-ruby-on-rails-1'}, {'title': 'Senior Full-Stack Engineer', 'company': 'Instinct Science', 'position': 'Full-Time', 'region': 'North America Only', 'url': 'https://weworkremotely.com/remote-jobs/instinct-science-senior-full-stack-engineer'}, {'title': 'Full-Stack Engineer', 'company': 'Locally', 'position': 'Full-Time', 'region': 'North America Only', 'url': 'https://weworkremotely.com/remote-jobs/locally-full-stack-engineer'}, {'title': 'Senior Rails Developer - Remote', 'company': 'G2i Inc.', 'position': 'Contract', 'region': 'Americas Only/Europe Only', 'url': 'https://weworkremotely.com/remote-jobs/g2i-inc-senior-rails-developer-remote'}, {'title': 'Senior Software Engineer', 'company': 'Parallax', 'position': 'Full-Time', 'region': 'Americas Only', 'url': 'https://weworkremotely.com/remote-jobs/parallax-senior-software-engineer'}, {'title': 'Senior Full-Stack .NET developer', 'company': 'Wordwall', 'position': 'Full-Time', 'region': 'Anywhere in the World', 'url': 'https://weworkremotely.com/remote-jobs/wordwall-senior-full-stack-net-developer-8'}, {'title': 'Full Stack Engineer', 'company': 'Heidi', 'position': 'Full-Time', 'region': 'Europe Only', 'url': 'https://weworkremotely.com/remote-jobs/heidi-full-stack-engineer-1'}, {'title': 'Talented Backend Developer (m/f/d)', 'company': 'Vicoland', 'position': 'Contract', 'region': 'Anywhere in the World', 'url': 'https://weworkremotely.com/remote-jobs/vicoland-talented-backend-developer-m-f-d-1'}, {'title': 'Founding CTO', 'company': 'Marathon Data', 'position': 'Full-Time', 'region': 'USA Only', 'url': 'https://weworkremotely.com/remote-jobs/marathon-data-founding-cto'}, {'title': 'Fullstack Developer Golang with TypeScript', 'company': 'Netguru S.A.', 'position': 'Contract', 'region': 'Anywhere in the World', 'url': 'https://weworkremotely.com/remote-jobs/netguru-s-a-fullstack-developer-golang-with-typescript'}, {'title': 'Founding Software Engineering Lead', 'company': 'withyou', 'position': 'Full-Time', 'region': 'Europe Only', 'url': 'https://weworkremotely.com/remote-jobs/withyou-founding-software-engineering-lead'}, {'title': 'Senior Full Stack Engineer', 'company': 'Platomics', 'position': 'Full-Time', 'region': 'Anywhere in the World', 'url': 'https://weworkremotely.com/remote-jobs/platomics-senior-full-stack-engineer'}, {'title': 'Experienced Full-stack Developer', 'company': 'Sanctuary Computer', 'position': 'Full-Time', 'region': 'Anywhere in the World', 'url': 'https://weworkremotely.com/remote-jobs/sanctuary-computer-experienced-full-stack-developer'}, {'title': 'Full Stack Developer (React / Laravel) | AI for WordPress', 'company': 'WPAI', 'position': 'Full-Time', 'region': 'Anywhere in the World', 'url': 'https://weworkremotely.com/remote-jobs/wpai-full-stack-developer-react-laravel-ai-for-wordpress'}, {'title': 'Lead Full-Stack PHP Developer', 'company': 'BBE Marketing Inc', 'position': 'Contract', 'region': 'Anywhere in the World', 'url': 'https://weworkremotely.com/remote-jobs/bbe-marketing-inc-lead-full-stack-php-developer-3'}, {'title': 'Software Developer - C++ - Golang', 'company': 'BotGuard', 'position': 'Full-Time', 'region': 'Anywhere in the World', 'url': 'https://weworkremotely.com/remote-jobs/botguard-software-developer-cpp-golang'}, {'title': 'Senior Support Developer (WordPress)', 'company': 'Gravity Wiz', 'position': 'Full-Time', 'region': 'Anywhere in the World', 'url': 'https://weworkremotely.com/remote-jobs/gravity-wiz-senior-support-developer-wordpress'}, {'title': 'Full stack developer 🇺🇸', 'company': 'PetsApp', 'position': 'Full-Time', 'region': 'North America Only', 'url': 'https://weworkremotely.com/remote-jobs/petsapp-full-stack-developer'}, {'title': 'Senior Ruby on Rails Engineer', 'company': 'Event Temple', 'position': 'Full-Time', 'region': 'Canada Only', 'url': 'https://weworkremotely.com/remote-jobs/event-temple-senior-ruby-on-rails-engineer'}, {'title': 'PHP Developer', 'company': 'MailerLite', 'position': 'Full-Time', 'region': 'Anywhere in the World', 'url': 'https://weworkremotely.com/remote-jobs/mailerlite-php-developer-1'}, {'title': 'Senior full-stack engineer (US, remote)', 'company': 'BeamJobs', 'position': 'Full-Time', 'region': 'USA Only', 'url': 'https://weworkremotely.com/remote-jobs/beamjobs-senior-full-stack-engineer-us-remote'}, {'title': 'Senior Ruby on Rails Engineer', 'company': 'Booster SEO', 'position': 'Full-Time', 'region': 'Anywhere in the World', 'url': 'https://weworkremotely.com/remote-jobs/booster-seo-senior-ruby-on-rails-engineer'}, {'title': 'Full Stack Developer (Front-End Focused)', 'company': 'Great Good Venture Studio', 'position': 'Contract', 'region': 'Latin America Only/Europe Only', 'url': 'https://weworkremotely.com/remote-jobs/great-good-venture-studio-full-stack-developer-front-end-focused'}, {'title': 'Senior Software Engineer (Java)', 'company': 'Builder Prime', 'position': 'Full-Time', 'region': 'Latin America Only/Canada Only', 'url': 'https://weworkremotely.com/remote-jobs/builder-prime-senior-software-engineer-java'}, {'title': 'Senior Independent Software Developer ($90-$150/hr)', 'company': 'A.Team', 'position': 'Contract', 'region': 'Anywhere in the World', 'url': 'https://weworkremotely.com/remote-jobs/a-team-senior-independent-software-developer-90-150-hr'}, {'title': 'Golang Developer', 'company': 'IVPN', 'position': 'Full-Time', 'region': 'Europe Only', 'url': 'https://weworkremotely.com/remote-jobs/ivpn-golang-developer'}, {'title': 'Senior Cloud Asp.NET, Kubernetes Developer', 'company': 'DEON', 'position': 'Full-Time', 'region': 'Europe Only', 'url': 'https://weworkremotely.com/remote-jobs/deon-senior-cloud-asp-net-kubernetes-developer-2'}, {'title': 'Senior iOS Engineer', 'company': 'Elevate Labs', 'position': 'Full-Time', 'region': 'Americas Only', 'url': 'https://weworkremotely.com/remote-jobs/elevate-labs-senior-ios-engineer-3'}, {'title': 'Head of Engineering', 'company': 'TimeZest', 'position': 'Full-Time', 'region': 'Anywhere in the World', 'url': 'https://weworkremotely.com/remote-jobs/timezest-head-of-engineering'}, {'title': 'Senior Tech Lead', 'company': 'Loupe Art', 'position': 'Full-Time', 'region': 'USA Only', 'url': 'https://weworkremotely.com/remote-jobs/loupe-art-senior-tech-lead'}, {'title': 'Senior Full Stack Developer (Real-Time Systems) ', 'company': 'BaxEnergy', 'position': 'Full-Time', 'region': 'Anywhere in the World', 'url': 'https://weworkremotely.com/remote-jobs/wisnam-srl-senior-full-stack-developer-real-time-systems'}, {'title': 'Senior Backend Engineer', 'company': 'Checkly', 'position': 'Full-Time', 'region': 'USA Only/North America Only/Latin America Only/Americas Only/Europe Only/UK Only', 'url': 'https://weworkremotely.com/remote-jobs/checkly-senior-backend-engineer'}, {'title': 'Android Developer – Cyprus,Greece or Remote ', 'company': 'XM', 'position': 'Full-Time', 'region': 'Europe Only', 'url': 'https://weworkremotely.com/remote-jobs/xm-android-developer-cyprus-greece-or-remote-5'}, {'title': 'Full-Stack Wordpress Developer', 'company': 'BBE Marketing Inc', 'position': 'Full-Time', 'region': 'Anywhere in the World', 'url': 'https://weworkremotely.com/remote-jobs/bbe-marketing-inc-full-stack-wordpress-developer-8'}, {'title': 'Full Stack Ruby Engineer', 'company': 'OpenPlay', 'position': 'Full-Time', 'region': 'USA Only', 'url': 'https://weworkremotely.com/remote-jobs/openplay-full-stack-ruby-engineer'}, {'title': 'Sr. Full Stack Engineer (Javascript/Typescript, Node/React)', 'company': 'Grouse Software Labs Inc', 'position': 'Full-Time', 'region': 'Americas Only', 'url': 'https://weworkremotely.com/remote-jobs/grouse-software-labs-inc-sr-full-stack-engineer-javascript-typescript-node-react-1'}, {'title': 'Senior Software Developer ', 'company': 'DM Holdings LLC', 'position': 'Full-Time', 'region': 'USA Only', 'url': 'https://weworkremotely.com/remote-jobs/dm-holdings-llc-senior-software-developer'}, {'title': 'PHP Developer', 'company': 'RemoteMore', 'position': 'Full-Time', 'region': 'Anywhere in the World', 'url': 'https://weworkremotely.com/remote-jobs/remotemore-php-developer'}, {'title': 'Senior Software Engineer II', 'company': 'LeadSimple, Inc.', 'position': 'Full-Time', 'region': 'Anywhere in the World', 'url': 'https://weworkremotely.com/remote-jobs/leadsimple-inc-senior-software-engineer-ii-1'}, {'title': 'Senior Software Engineer I', 'company': 'LeadSimple, Inc.', 'position': 'Full-Time', 'region': 'Anywhere in the World', 'url': 'https://weworkremotely.com/remote-jobs/leadsimple-inc-senior-software-engineer-i-1'}, {'title': 'Software Development Team Lead', 'company': 'RapidSeedbox Ltd', 'position': 'Full-Time', 'region': 'Latin America Only/Europe Only/UK Only/Asia Only', 'url': 'https://weworkremotely.com/remote-jobs/rapidseedbox-ltd-software-development-team-lead-1'}, {'title': 'Versatile full-stack Rust / Typescript developer ', 'company': 'eCellula', 'position': 'Full-Time', 'region': 'Anywhere in the World', 'url': 'https://weworkremotely.com/remote-jobs/ecellula-versatile-full-stack-rust-typescript-developer'}]\n"
          ]
        }
      ]
    },
    {
      "cell_type": "code",
      "source": [
        "import requests\n",
        "from bs4 import BeautifulSoup\n",
        "\n",
        "url = \"https://weworkremotely.com/categories/remote-full-stack-programming-jobs\"\n",
        "\n",
        "response = requests.get(url)\n",
        "\n",
        "soup = BeautifulSoup(response.content, 'html.parser')\n",
        "\n",
        "jobs = soup.find('section', class_ ='jobs').find_all('li')[1:-1]\n",
        "\n",
        "all_jobs = []\n",
        "for job in jobs :\n",
        "  title = job.find('span', class_ = 'title').text\n",
        "  company, position, region = job.find_all('span', class_ = 'company')\n",
        "  job_data = {\n",
        "      'title' : title,\n",
        "      'company' : company.text,\n",
        "      'position' : position.text,\n",
        "      'region' : region.text\n",
        "  }\n",
        "  all_jobs.append(job_data)\n",
        "\n",
        "print(all_jobs)"
      ],
      "metadata": {
        "id": "ow4jHkVHv2QR"
      },
      "execution_count": null,
      "outputs": []
    },
    {
      "cell_type": "code",
      "source": [
        "letters = ['aa', 'bb', 'cc']\n",
        "a , b, c = letters\n",
        "\n",
        "print(a, b, c)"
      ],
      "metadata": {
        "colab": {
          "base_uri": "https://localhost:8080/"
        },
        "id": "pegqcZ1afKEO",
        "outputId": "d8572303-2547-4ab5-8c85-08c04deb7faa"
      },
      "execution_count": 65,
      "outputs": [
        {
          "output_type": "stream",
          "name": "stdout",
          "text": [
            "aa bb cc\n"
          ]
        }
      ]
    },
    {
      "cell_type": "code",
      "source": [
        "_ = 12\n",
        "print(_)"
      ],
      "metadata": {
        "colab": {
          "base_uri": "https://localhost:8080/"
        },
        "id": "NpV1rBEIkF_F",
        "outputId": "5feb142c-0ff1-4a48-b297-aaef24b4d0c7"
      },
      "execution_count": 66,
      "outputs": [
        {
          "output_type": "stream",
          "name": "stdout",
          "text": [
            "12\n"
          ]
        }
      ]
    },
    {
      "cell_type": "code",
      "source": [],
      "metadata": {
        "id": "YFuPW4V0kHcA"
      },
      "execution_count": null,
      "outputs": []
    }
  ]
}